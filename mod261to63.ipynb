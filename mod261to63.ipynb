{
 "cells": [
  {
   "cell_type": "code",
   "execution_count": 2,
   "id": "a24683f7-9508-4ef3-95f2-72c58e497a0d",
   "metadata": {
    "tags": []
   },
   "outputs": [
    {
     "name": "stdout",
     "output_type": "stream",
     "text": [
      "3\n",
      "2\n",
      "1\n",
      "0\n"
     ]
    }
   ],
   "source": [
    "jaylist = [3,2,1,0]\n",
    "for x in jaylist:\n",
    "    print(x)"
   ]
  },
  {
   "cell_type": "code",
   "execution_count": 3,
   "id": "e1aaa0e5-5bc3-493d-9c11-145544ebecc0",
   "metadata": {
    "tags": []
   },
   "outputs": [
    {
     "name": "stdout",
     "output_type": "stream",
     "text": [
      "too low\n",
      "too low\n",
      "too low\n",
      "too low\n",
      "too low\n",
      "too low\n",
      "found it!\n",
      "too high\n",
      "too high\n"
     ]
    }
   ],
   "source": [
    "guess_me=7\n",
    "number=1\n",
    "while number<10:\n",
    "    if number==guess_me:\n",
    "        print('found it!')\n",
    "    elif number<guess_me:\n",
    "        print('too low')\n",
    "    else:\n",
    "        print('too high')\n",
    "    number +=1    "
   ]
  },
  {
   "cell_type": "code",
   "execution_count": 6,
   "id": "0bcf8af3-7c10-4433-8096-6fadae48d6e0",
   "metadata": {
    "tags": []
   },
   "outputs": [
    {
     "name": "stdout",
     "output_type": "stream",
     "text": [
      "0\n",
      "too low\n",
      "1\n",
      "too low\n",
      "2\n",
      "too low\n",
      "3\n",
      "too low\n",
      "4\n",
      "too low\n",
      "5\n"
     ]
    }
   ],
   "source": [
    "guess_me=5\n",
    "\n",
    "for number in range(11):\n",
    "    print(number)\n",
    "    if number<guess_me:\n",
    "        print('too low')\n",
    "    if number>guess_me:\n",
    "        print('oops')\n",
    "    if number==guess_me:\n",
    "        break\n",
    "        print('found it!')\n",
    "        "
   ]
  },
  {
   "cell_type": "code",
   "execution_count": null,
   "id": "41643054-c27a-49a0-a383-e8720692a186",
   "metadata": {},
   "outputs": [],
   "source": []
  }
 ],
 "metadata": {
  "kernelspec": {
   "display_name": "Python 3 (ipykernel)",
   "language": "python",
   "name": "python3"
  },
  "language_info": {
   "codemirror_mode": {
    "name": "ipython",
    "version": 3
   },
   "file_extension": ".py",
   "mimetype": "text/x-python",
   "name": "python",
   "nbconvert_exporter": "python",
   "pygments_lexer": "ipython3",
   "version": "3.11.5"
  }
 },
 "nbformat": 4,
 "nbformat_minor": 5
}
