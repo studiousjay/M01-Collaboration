{
 "cells": [
  {
   "cell_type": "code",
   "execution_count": null,
   "id": "298efdbd-0d77-44a1-9655-fe6f934bbaaf",
   "metadata": {},
   "outputs": [],
   "source": []
  },
  {
   "cell_type": "code",
   "execution_count": null,
   "id": "2bb64704-aa22-49c8-8605-769c28a82033",
   "metadata": {},
   "outputs": [
    {
     "name": "stdout",
     "output_type": "stream",
     "text": [
      "to exit, enter ZZZ as student last name\n"
     ]
    },
    {
     "name": "stdin",
     "output_type": "stream",
     "text": [
      "enter student last name: barker\n",
      "enter student first name: bob\n",
      "enter GPA: 3.75\n"
     ]
    },
    {
     "name": "stdout",
     "output_type": "stream",
     "text": [
      "bob barker 3.75\n",
      "Congrats. You've made the Dean's list.\n",
      "to exit, enter ZZZ as student last name\n"
     ]
    }
   ],
   "source": [
    "student_lastname='kobe'\n",
    "\n",
    "\n",
    "while student_lastname!='ZZZ':\n",
    "    print(\"to exit, enter ZZZ as student last name\")\n",
    "    student_lastname=input(\"enter student last name:\")\n",
    "    student_firstname=input(\"enter student first name:\")\n",
    "    student_gpa=float(input(\"enter GPA:\"))\n",
    "        \n",
    "    print(student_firstname, student_lastname, student_gpa)\n",
    "    if student_gpa>=3.5:\n",
    "        print(\"Congrats. You've made the Dean's list.\")\n",
    "    else student_gpa>=3.25 and student_gpa<3.5:\n",
    "        print(\"Congrats. You've made the Honor Roll.\")"
   ]
  },
  {
   "cell_type": "code",
   "execution_count": null,
   "id": "dee1d05b-a189-48df-85aa-ad2c53511939",
   "metadata": {},
   "outputs": [],
   "source": []
  }
 ],
 "metadata": {
  "kernelspec": {
   "display_name": "Python 3 (ipykernel)",
   "language": "python",
   "name": "python3"
  },
  "language_info": {
   "codemirror_mode": {
    "name": "ipython",
    "version": 3
   },
   "file_extension": ".py",
   "mimetype": "text/x-python",
   "name": "python",
   "nbconvert_exporter": "python",
   "pygments_lexer": "ipython3",
   "version": "3.11.5"
  }
 },
 "nbformat": 4,
 "nbformat_minor": 5
}
