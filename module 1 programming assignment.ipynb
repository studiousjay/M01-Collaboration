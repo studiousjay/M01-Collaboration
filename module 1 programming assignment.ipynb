{
 "cells": [
  {
   "cell_type": "code",
   "execution_count": 1,
   "id": "1c776f59-5fc7-4796-a1e0-357445cd2c2d",
   "metadata": {
    "tags": []
   },
   "outputs": [
    {
     "name": "stdout",
     "output_type": "stream",
     "text": [
      "3600\n"
     ]
    }
   ],
   "source": [
    "secondsinhour=60*60\n",
    "print(secondsinhour)"
   ]
  },
  {
   "cell_type": "code",
   "execution_count": 2,
   "id": "a9ef37a3-508c-4c90-a7c9-81727fd812f4",
   "metadata": {
    "tags": []
   },
   "outputs": [
    {
     "name": "stdout",
     "output_type": "stream",
     "text": [
      "86400\n"
     ]
    }
   ],
   "source": [
    "secondsinhour=3600\n",
    "secondsinday=secondsinhour*24\n",
    "print(secondsinday)\n"
   ]
  },
  {
   "cell_type": "code",
   "execution_count": 3,
   "id": "d298734b-b05e-482b-9458-93b9777254a2",
   "metadata": {
    "tags": []
   },
   "outputs": [
    {
     "name": "stdout",
     "output_type": "stream",
     "text": [
      "24.0\n",
      "24\n"
     ]
    }
   ],
   "source": [
    "print(secondsinday/secondsinhour)\n",
    "print(secondsinday//secondsinhour)"
   ]
  },
  {
   "cell_type": "code",
   "execution_count": null,
   "id": "70f8de18-220f-4c14-a6c6-c5078e07649a",
   "metadata": {},
   "outputs": [],
   "source": []
  }
 ],
 "metadata": {
  "kernelspec": {
   "display_name": "Python 3 (ipykernel)",
   "language": "python",
   "name": "python3"
  },
  "language_info": {
   "codemirror_mode": {
    "name": "ipython",
    "version": 3
   },
   "file_extension": ".py",
   "mimetype": "text/x-python",
   "name": "python",
   "nbconvert_exporter": "python",
   "pygments_lexer": "ipython3",
   "version": "3.11.5"
  }
 },
 "nbformat": 4,
 "nbformat_minor": 5
}
