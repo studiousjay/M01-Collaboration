{
 "cells": [
  {
   "cell_type": "code",
   "execution_count": null,
   "id": "fa8383c0-5de3-4f2e-97c4-a3248eef8988",
   "metadata": {},
   "outputs": [],
   "source": []
  },
  {
   "cell_type": "code",
   "execution_count": 7,
   "id": "1c776f59-5fc7-4796-a1e0-357445cd2c2d",
   "metadata": {},
   "outputs": [
    {
     "name": "stdout",
     "output_type": "stream",
     "text": [
      "too low\n"
     ]
    }
   ],
   "source": [
    "secret=3\n",
    "guess=7\n",
    "if guess<secret:\n",
    "    print('too high')\n",
    "elif guess>secret:\n",
    "    print('too low')\n",
    "else:\n",
    "    print('just right')"
   ]
  },
  {
   "cell_type": "code",
   "execution_count": 8,
   "id": "2e66b2da-a89d-4a37-a5ea-c3c979f4f160",
   "metadata": {
    "tags": []
   },
   "outputs": [
    {
     "ename": "NameError",
     "evalue": "name 'true' is not defined",
     "output_type": "error",
     "traceback": [
      "\u001b[1;31m---------------------------------------------------------------------------\u001b[0m",
      "\u001b[1;31mNameError\u001b[0m                                 Traceback (most recent call last)",
      "Cell \u001b[1;32mIn[8], line 1\u001b[0m\n\u001b[1;32m----> 1\u001b[0m small\u001b[38;5;241m=\u001b[39mtrue\n\u001b[0;32m      2\u001b[0m green\u001b[38;5;241m=\u001b[39mtrue\n\u001b[0;32m      4\u001b[0m \u001b[38;5;28;01mif\u001b[39;00m small\u001b[38;5;241m==\u001b[39mtrue \u001b[38;5;129;01mand\u001b[39;00m green\u001b[38;5;241m==\u001b[39mtrue:\n",
      "\u001b[1;31mNameError\u001b[0m: name 'true' is not defined"
     ]
    }
   ],
   "source": [
    "small=True\n",
    "green=True\n",
    "\n",
    "if small==true and green==true:\n",
    "    print('pea')\n",
    "elif small==true and green==false:\n",
    "    print('cherry')\n",
    "elif small==false and green==true:\n",
    "    print('watermelon')\n",
    "else:\n",
    "    print('pumpkin')\n"
   ]
  },
  {
   "cell_type": "code",
   "execution_count": null,
   "id": "4ffee268-8faa-40e7-b789-4a0302af8689",
   "metadata": {},
   "outputs": [],
   "source": []
  }
 ],
 "metadata": {
  "kernelspec": {
   "display_name": "Python 3 (ipykernel)",
   "language": "python",
   "name": "python3"
  },
  "language_info": {
   "codemirror_mode": {
    "name": "ipython",
    "version": 3
   },
   "file_extension": ".py",
   "mimetype": "text/x-python",
   "name": "python",
   "nbconvert_exporter": "python",
   "pygments_lexer": "ipython3",
   "version": "3.11.5"
  }
 },
 "nbformat": 4,
 "nbformat_minor": 5
}
